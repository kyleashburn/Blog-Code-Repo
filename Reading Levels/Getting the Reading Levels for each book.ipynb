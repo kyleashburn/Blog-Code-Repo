{
 "cells": [
  {
   "cell_type": "code",
   "execution_count": 1,
   "id": "d636ba44",
   "metadata": {},
   "outputs": [],
   "source": [
    "import pandas as pd\n",
    "import textstat as ts"
   ]
  },
  {
   "cell_type": "code",
   "execution_count": 3,
   "id": "92661d01",
   "metadata": {},
   "outputs": [],
   "source": [
    "books = pd.read_json(\"top-10-projbg-books.ndjson\", lines=True)"
   ]
  },
  {
   "cell_type": "code",
   "execution_count": 6,
   "id": "828ef6b1",
   "metadata": {},
   "outputs": [
    {
     "name": "stdout",
     "output_type": "stream",
     "text": [
      "CPU times: total: 0 ns\n",
      "Wall time: 1 ms\n"
     ]
    }
   ],
   "source": [
    "%%time\n",
    "books[\"fl_ease\"] = books[\"text\"].apply(ts.flesch_reading_ease)"
   ]
  },
  {
   "cell_type": "code",
   "execution_count": 9,
   "id": "e20cc2bc",
   "metadata": {},
   "outputs": [
    {
     "name": "stdout",
     "output_type": "stream",
     "text": [
      "CPU times: total: 0 ns\n",
      "Wall time: 969 µs\n"
     ]
    }
   ],
   "source": [
    "%%time\n",
    "books[\"fl_kn_grd\"] = books[\"text\"].apply(ts.flesch_kincaid_grade)"
   ]
  },
  {
   "cell_type": "code",
   "execution_count": 11,
   "id": "8eecd0ac",
   "metadata": {},
   "outputs": [
    {
     "name": "stdout",
     "output_type": "stream",
     "text": [
      "CPU times: total: 4.86 s\n",
      "Wall time: 4.86 s\n"
     ]
    }
   ],
   "source": [
    "%%time\n",
    "books[\"smog\"] = books[\"text\"].apply(ts.smog_index)"
   ]
  },
  {
   "cell_type": "code",
   "execution_count": 12,
   "id": "5ffa65de",
   "metadata": {},
   "outputs": [
    {
     "name": "stdout",
     "output_type": "stream",
     "text": [
      "CPU times: total: 1.38 s\n",
      "Wall time: 1.38 s\n"
     ]
    }
   ],
   "source": [
    "%%time\n",
    "books[\"gunning\"] = books[\"text\"].apply(ts.gunning_fog)"
   ]
  },
  {
   "cell_type": "code",
   "execution_count": 12,
   "id": "5cfb0713",
   "metadata": {},
   "outputs": [
    {
     "name": "stdout",
     "output_type": "stream",
     "text": [
      "CPU times: total: 1.38 s\n",
      "Wall time: 1.38 s\n"
     ]
    }
   ],
   "source": [
    "%%time\n",
    "books[\"ari\"] = books[\"text\"].apply(ts.automated_readability_index)"
   ]
  },
  {
   "cell_type": "code",
   "execution_count": 13,
   "id": "ac271551",
   "metadata": {},
   "outputs": [
    {
     "name": "stdout",
     "output_type": "stream",
     "text": [
      "CPU times: total: 1.38 s\n",
      "Wall time: 1.37 s\n"
     ]
    }
   ],
   "source": [
    "%%time\n",
    "books[\"dale_chall\"] = books[\"text\"].apply(ts.dale_chall_readability_score)"
   ]
  },
  {
   "cell_type": "code",
   "execution_count": 16,
   "id": "3d3d14f7",
   "metadata": {},
   "outputs": [
    {
     "name": "stdout",
     "output_type": "stream",
     "text": [
      "CPU times: total: 2.02 s\n",
      "Wall time: 2.01 s\n"
     ]
    }
   ],
   "source": [
    "%%time\n",
    "books[\"ensemble\"] = books[\"text\"].apply(ts.text_standard, float_output=True)"
   ]
  },
  {
   "cell_type": "code",
   "execution_count": 17,
   "id": "8a2e1409",
   "metadata": {},
   "outputs": [
    {
     "name": "stdout",
     "output_type": "stream",
     "text": [
      "CPU times: total: 656 ms\n",
      "Wall time: 643 ms\n"
     ]
    }
   ],
   "source": [
    "%%time\n",
    "books[\"eflaw\"] = books[\"text\"].apply(ts.mcalpine_eflaw)"
   ]
  },
  {
   "cell_type": "code",
   "execution_count": 18,
   "id": "fb8a4936",
   "metadata": {},
   "outputs": [
    {
     "name": "stdout",
     "output_type": "stream",
     "text": [
      "CPU times: total: 516 ms\n",
      "Wall time: 516 ms\n"
     ]
    }
   ],
   "source": [
    "%%time\n",
    "books[\"reading_time\"] = books[\"text\"].apply(ts.reading_time, ms_per_char=16.45) \n",
    "# mean time per character per Trauzettel-Klosinski et al, 2012"
   ]
  },
  {
   "cell_type": "code",
   "execution_count": 19,
   "id": "5be25f7c",
   "metadata": {
    "scrolled": false
   },
   "outputs": [
    {
     "data": {
      "text/html": [
       "<div>\n",
       "<style scoped>\n",
       "    .dataframe tbody tr th:only-of-type {\n",
       "        vertical-align: middle;\n",
       "    }\n",
       "\n",
       "    .dataframe tbody tr th {\n",
       "        vertical-align: top;\n",
       "    }\n",
       "\n",
       "    .dataframe thead th {\n",
       "        text-align: right;\n",
       "    }\n",
       "</style>\n",
       "<table border=\"1\" class=\"dataframe\">\n",
       "  <thead>\n",
       "    <tr style=\"text-align: right;\">\n",
       "      <th></th>\n",
       "      <th>filename</th>\n",
       "      <th>text</th>\n",
       "      <th>fl_ease</th>\n",
       "      <th>fl_kn_grd</th>\n",
       "      <th>smog</th>\n",
       "      <th>gunning</th>\n",
       "      <th>dale_chall</th>\n",
       "      <th>ensemble</th>\n",
       "      <th>eflaw</th>\n",
       "      <th>reading_time</th>\n",
       "    </tr>\n",
       "  </thead>\n",
       "  <tbody>\n",
       "    <tr>\n",
       "      <th>0</th>\n",
       "      <td>A Room with a View by E.M. Forster.txt</td>\n",
       "      <td>\\n\\n\\n\\n\\n\\n\\n\\n\\n\\nA Room With A View\\n\\nBy E...</td>\n",
       "      <td>84.78</td>\n",
       "      <td>4.4</td>\n",
       "      <td>8.2</td>\n",
       "      <td>5.80</td>\n",
       "      <td>5.49</td>\n",
       "      <td>6.0</td>\n",
       "      <td>17.2</td>\n",
       "      <td>5037.43</td>\n",
       "    </tr>\n",
       "    <tr>\n",
       "      <th>1</th>\n",
       "      <td>Cranford by Elizabeth Cleghorn Gaskell.txt</td>\n",
       "      <td>\\n\\n\\n\\n\\n                 \\n\\n\\n\\n\\n         ...</td>\n",
       "      <td>69.25</td>\n",
       "      <td>10.4</td>\n",
       "      <td>10.5</td>\n",
       "      <td>11.79</td>\n",
       "      <td>6.14</td>\n",
       "      <td>11.0</td>\n",
       "      <td>39.6</td>\n",
       "      <td>5171.62</td>\n",
       "    </tr>\n",
       "    <tr>\n",
       "      <th>2</th>\n",
       "      <td>Little Women by Louisa May Alcott.txt</td>\n",
       "      <td>\\n\\n\\n\\n\\nProduced by David Edwards, Ernest Sc...</td>\n",
       "      <td>76.35</td>\n",
       "      <td>7.6</td>\n",
       "      <td>8.6</td>\n",
       "      <td>8.86</td>\n",
       "      <td>6.01</td>\n",
       "      <td>9.0</td>\n",
       "      <td>29.7</td>\n",
       "      <td>2940.75</td>\n",
       "    </tr>\n",
       "    <tr>\n",
       "      <th>3</th>\n",
       "      <td>Middlemarch by George Eliot.txt</td>\n",
       "      <td>\\n\\ncover\\n\\n\\n\\n\\nMiddlemarch\\n\\nGeorge Eliot...</td>\n",
       "      <td>68.50</td>\n",
       "      <td>8.6</td>\n",
       "      <td>10.3</td>\n",
       "      <td>8.48</td>\n",
       "      <td>1.65</td>\n",
       "      <td>9.0</td>\n",
       "      <td>28.4</td>\n",
       "      <td>23985.61</td>\n",
       "    </tr>\n",
       "    <tr>\n",
       "      <th>4</th>\n",
       "      <td>Moby Dick; Or, The Whale by Herman Melville.txt</td>\n",
       "      <td>\\n\\n\\n\\n\\nMOBY-DICK;\\n\\nor, THE WHALE.\\n\\nBy H...</td>\n",
       "      <td>73.31</td>\n",
       "      <td>8.8</td>\n",
       "      <td>10.6</td>\n",
       "      <td>10.22</td>\n",
       "      <td>5.95</td>\n",
       "      <td>9.0</td>\n",
       "      <td>33.0</td>\n",
       "      <td>16484.55</td>\n",
       "    </tr>\n",
       "    <tr>\n",
       "      <th>5</th>\n",
       "      <td>The Adventures of Ferdinand Count Fathom — Com...</td>\n",
       "      <td>\\n\\n\\n\\n\\nProduced by Tapio Riikonen and David...</td>\n",
       "      <td>37.31</td>\n",
       "      <td>18.5</td>\n",
       "      <td>16.4</td>\n",
       "      <td>17.74</td>\n",
       "      <td>6.65</td>\n",
       "      <td>18.0</td>\n",
       "      <td>60.1</td>\n",
       "      <td>13010.06</td>\n",
       "    </tr>\n",
       "    <tr>\n",
       "      <th>6</th>\n",
       "      <td>The Blue Castle by L.M. Montgomery.txt</td>\n",
       "      <td>\\n\\n\\n_The_\\n\\nBLUE CASTLE\\n\\n\\n\\n\\n_A NOVEL_\\...</td>\n",
       "      <td>84.78</td>\n",
       "      <td>4.4</td>\n",
       "      <td>8.0</td>\n",
       "      <td>5.64</td>\n",
       "      <td>5.47</td>\n",
       "      <td>6.0</td>\n",
       "      <td>17.0</td>\n",
       "      <td>5258.59</td>\n",
       "    </tr>\n",
       "    <tr>\n",
       "      <th>7</th>\n",
       "      <td>The Complete Works of William Shakespeare by W...</td>\n",
       "      <td>\\n\\n\\n\\n\\nThe Complete Works of William Shakes...</td>\n",
       "      <td>82.04</td>\n",
       "      <td>5.4</td>\n",
       "      <td>7.6</td>\n",
       "      <td>6.10</td>\n",
       "      <td>1.20</td>\n",
       "      <td>6.0</td>\n",
       "      <td>20.7</td>\n",
       "      <td>69933.52</td>\n",
       "    </tr>\n",
       "    <tr>\n",
       "      <th>8</th>\n",
       "      <td>The Enchanted April by Elizabeth Von Arnim.txt</td>\n",
       "      <td>\\n\\n\\n\\n\\n\\n\\n\\n\\n\\nThe Enchanted April\\n\\nby ...</td>\n",
       "      <td>80.92</td>\n",
       "      <td>5.9</td>\n",
       "      <td>9.3</td>\n",
       "      <td>7.17</td>\n",
       "      <td>5.37</td>\n",
       "      <td>6.0</td>\n",
       "      <td>22.8</td>\n",
       "      <td>5900.71</td>\n",
       "    </tr>\n",
       "    <tr>\n",
       "      <th>9</th>\n",
       "      <td>The Expedition of Humphry Clinker by T. Smolle...</td>\n",
       "      <td>\\n\\n\\n\\n\\nProduced by Martin Adamson and  Andr...</td>\n",
       "      <td>46.68</td>\n",
       "      <td>17.0</td>\n",
       "      <td>14.5</td>\n",
       "      <td>17.39</td>\n",
       "      <td>6.85</td>\n",
       "      <td>17.0</td>\n",
       "      <td>59.4</td>\n",
       "      <td>11525.61</td>\n",
       "    </tr>\n",
       "  </tbody>\n",
       "</table>\n",
       "</div>"
      ],
      "text/plain": [
       "                                            filename  \\\n",
       "0             A Room with a View by E.M. Forster.txt   \n",
       "1         Cranford by Elizabeth Cleghorn Gaskell.txt   \n",
       "2              Little Women by Louisa May Alcott.txt   \n",
       "3                    Middlemarch by George Eliot.txt   \n",
       "4    Moby Dick; Or, The Whale by Herman Melville.txt   \n",
       "5  The Adventures of Ferdinand Count Fathom — Com...   \n",
       "6             The Blue Castle by L.M. Montgomery.txt   \n",
       "7  The Complete Works of William Shakespeare by W...   \n",
       "8     The Enchanted April by Elizabeth Von Arnim.txt   \n",
       "9  The Expedition of Humphry Clinker by T. Smolle...   \n",
       "\n",
       "                                                text  fl_ease  fl_kn_grd  \\\n",
       "0  \\n\\n\\n\\n\\n\\n\\n\\n\\n\\nA Room With A View\\n\\nBy E...    84.78        4.4   \n",
       "1  \\n\\n\\n\\n\\n                 \\n\\n\\n\\n\\n         ...    69.25       10.4   \n",
       "2  \\n\\n\\n\\n\\nProduced by David Edwards, Ernest Sc...    76.35        7.6   \n",
       "3  \\n\\ncover\\n\\n\\n\\n\\nMiddlemarch\\n\\nGeorge Eliot...    68.50        8.6   \n",
       "4  \\n\\n\\n\\n\\nMOBY-DICK;\\n\\nor, THE WHALE.\\n\\nBy H...    73.31        8.8   \n",
       "5  \\n\\n\\n\\n\\nProduced by Tapio Riikonen and David...    37.31       18.5   \n",
       "6  \\n\\n\\n_The_\\n\\nBLUE CASTLE\\n\\n\\n\\n\\n_A NOVEL_\\...    84.78        4.4   \n",
       "7  \\n\\n\\n\\n\\nThe Complete Works of William Shakes...    82.04        5.4   \n",
       "8  \\n\\n\\n\\n\\n\\n\\n\\n\\n\\nThe Enchanted April\\n\\nby ...    80.92        5.9   \n",
       "9  \\n\\n\\n\\n\\nProduced by Martin Adamson and  Andr...    46.68       17.0   \n",
       "\n",
       "   smog  gunning  dale_chall  ensemble  eflaw  reading_time  \n",
       "0   8.2     5.80        5.49       6.0   17.2       5037.43  \n",
       "1  10.5    11.79        6.14      11.0   39.6       5171.62  \n",
       "2   8.6     8.86        6.01       9.0   29.7       2940.75  \n",
       "3  10.3     8.48        1.65       9.0   28.4      23985.61  \n",
       "4  10.6    10.22        5.95       9.0   33.0      16484.55  \n",
       "5  16.4    17.74        6.65      18.0   60.1      13010.06  \n",
       "6   8.0     5.64        5.47       6.0   17.0       5258.59  \n",
       "7   7.6     6.10        1.20       6.0   20.7      69933.52  \n",
       "8   9.3     7.17        5.37       6.0   22.8       5900.71  \n",
       "9  14.5    17.39        6.85      17.0   59.4      11525.61  "
      ]
     },
     "execution_count": 19,
     "metadata": {},
     "output_type": "execute_result"
    }
   ],
   "source": [
    "books"
   ]
  },
  {
   "cell_type": "markdown",
   "id": "40d652a5",
   "metadata": {},
   "source": [
    "I'm not sure about how well these are performing here. I don't know if Shakesphere is actually at the 6th grade level in general. I'm especially unsure about the dale-chall score of 1.2 which would indicate an average 4th grader can easily understand it. Of course, these shouldn't be relied on as a gold standard but rather a hint of a direction that things might be."
   ]
  },
  {
   "cell_type": "markdown",
   "id": "cbd1ca07",
   "metadata": {},
   "source": [
    "Different formulas lead to different results unsurprising to think about. Thus, in this case, the text standard is probably our best bet. This is because it is rooted in finding the conscensus of the scores. Of course, \"best\" is probably a bit ambiguous in a lot of respects. For one thing, the metric needs to be one that is understood and accepted. For another, it needs to be one that is considered reliable. It's important to understand the context which exists for each of these metrics."
   ]
  },
  {
   "cell_type": "markdown",
   "id": "000a5589",
   "metadata": {},
   "source": [
    "The usual Flesch-Kincaid formula can overestaimte readability in certain contexts. The SMOG index is better used for techincal documents in a lot of respects and is popular in assessing the readability of health documents. However, syllable based readability tests have their own issues, short words may confuse people if they are rare. Other approaches can be found in the Dale-Chall forumla that has a list of words that 4th grade students can understand and anything off the list is considered difficult. In general though, any metric here is probably a \"good enough\" metric in general. Specific use cases require specific testing to ensure reliability and validity of a measure. "
   ]
  },
  {
   "cell_type": "code",
   "execution_count": null,
   "id": "4d621121",
   "metadata": {},
   "outputs": [],
   "source": []
  }
 ],
 "metadata": {
  "kernelspec": {
   "display_name": "Python 3 (ipykernel)",
   "language": "python",
   "name": "python3"
  },
  "language_info": {
   "codemirror_mode": {
    "name": "ipython",
    "version": 3
   },
   "file_extension": ".py",
   "mimetype": "text/x-python",
   "name": "python",
   "nbconvert_exporter": "python",
   "pygments_lexer": "ipython3",
   "version": "3.8.8"
  }
 },
 "nbformat": 4,
 "nbformat_minor": 5
}
