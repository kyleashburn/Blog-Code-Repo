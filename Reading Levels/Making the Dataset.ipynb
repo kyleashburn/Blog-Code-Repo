{
 "cells": [
  {
   "cell_type": "code",
   "execution_count": 1,
   "id": "91844929",
   "metadata": {},
   "outputs": [],
   "source": [
    "import os\n",
    "import json\n",
    "from pathlib import Path\n",
    "import pandas as pd\n",
    "import re"
   ]
  },
  {
   "cell_type": "code",
   "execution_count": 2,
   "id": "1ef728f7",
   "metadata": {},
   "outputs": [],
   "source": [
    "files_path = os.getcwd() + \"\\\\Books\""
   ]
  },
  {
   "cell_type": "code",
   "execution_count": 3,
   "id": "9d7ffff2",
   "metadata": {},
   "outputs": [
    {
     "name": "stdout",
     "output_type": "stream",
     "text": [
      "CPU times: total: 0 ns\n",
      "Wall time: 999 µs\n"
     ]
    }
   ],
   "source": [
    "%%time\n",
    "files = os.listdir(files_path)"
   ]
  },
  {
   "cell_type": "code",
   "execution_count": 4,
   "id": "59add712",
   "metadata": {},
   "outputs": [],
   "source": [
    "json_out = open(\"top-10-projbg-books.ndjson\", \"w\") # opening our file for the json output"
   ]
  },
  {
   "cell_type": "code",
   "execution_count": 5,
   "id": "0be13901",
   "metadata": {},
   "outputs": [
    {
     "name": "stdout",
     "output_type": "stream",
     "text": [
      "CPU times: total: 266 ms\n",
      "Wall time: 262 ms\n"
     ]
    }
   ],
   "source": [
    "%%time\n",
    "\n",
    "# looping through all the files\n",
    "for file in files:\n",
    "    \n",
    "    doc = dict() # dict to track everything & facilitate dumping to json\n",
    "    \n",
    "    # pulling the file text\n",
    "    file_text = Path(files_path+\"\\\\\"+file).read_text(encoding=\"utf-8\")\n",
    "    \n",
    "    file_text = file_text.split(\"***\")[2] # removing everything but the story\n",
    "    \n",
    "    file_text = re.sub(\"\\[.*\\]\", \"\", file_text) # removing anything that appears in brackets\n",
    "    \n",
    "    doc[\"filename\"] = file # adding file name\n",
    "    \n",
    "    doc[\"text\"] = file_text # adding text\n",
    "    \n",
    "    json_out.write(json.dumps(doc) + \"\\n\") # dumping output"
   ]
  },
  {
   "cell_type": "code",
   "execution_count": 6,
   "id": "d75979d9",
   "metadata": {},
   "outputs": [],
   "source": [
    "json_out.close()"
   ]
  }
 ],
 "metadata": {
  "kernelspec": {
   "display_name": "Python 3 (ipykernel)",
   "language": "python",
   "name": "python3"
  },
  "language_info": {
   "codemirror_mode": {
    "name": "ipython",
    "version": 3
   },
   "file_extension": ".py",
   "mimetype": "text/x-python",
   "name": "python",
   "nbconvert_exporter": "python",
   "pygments_lexer": "ipython3",
   "version": "3.8.8"
  }
 },
 "nbformat": 4,
 "nbformat_minor": 5
}
